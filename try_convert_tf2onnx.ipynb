{
 "cells": [
  {
   "cell_type": "code",
   "execution_count": null,
   "metadata": {},
   "outputs": [],
   "source": [
    "!pip install onnxruntime\n",
    "!pip install -U tf2onnx"
   ]
  },
  {
   "cell_type": "code",
   "execution_count": 5,
   "metadata": {},
   "outputs": [
    {
     "name": "stderr",
     "output_type": "stream",
     "text": [
      "2021-11-19 14:01:47.044541: W tensorflow/stream_executor/platform/default/dso_loader.cc:64] Could not load dynamic library 'cudart64_110.dll'; dlerror: cudart64_110.dll not found\n",
      "2021-11-19 14:01:47.044899: I tensorflow/stream_executor/cuda/cudart_stub.cc:29] Ignore above cudart dlerror if you do not have a GPU set up on your machine.\n",
      "C:\\Users\\dicoding\\anaconda3\\lib\\runpy.py:127: RuntimeWarning: 'tf2onnx.convert' found in sys.modules after import of package 'tf2onnx', but prior to execution of 'tf2onnx.convert'; this may result in unpredictable behaviour\n",
      "  warn(RuntimeWarning(msg))\n",
      "2021-11-19 14:01:51.170664: W tensorflow/stream_executor/platform/default/dso_loader.cc:64] Could not load dynamic library 'nvcuda.dll'; dlerror: nvcuda.dll not found\n",
      "2021-11-19 14:01:51.171029: W tensorflow/stream_executor/cuda/cuda_driver.cc:269] failed call to cuInit: UNKNOWN ERROR (303)\n",
      "2021-11-19 14:01:51.174443: I tensorflow/stream_executor/cuda/cuda_diagnostics.cc:169] retrieving CUDA diagnostic information for host: DESKTOP-JTS53L9\n",
      "2021-11-19 14:01:51.174794: I tensorflow/stream_executor/cuda/cuda_diagnostics.cc:176] hostname: DESKTOP-JTS53L9\n",
      "2021-11-19 14:01:51.175298: I tensorflow/core/platform/cpu_feature_guard.cc:142] This TensorFlow binary is optimized with oneAPI Deep Neural Network Library (oneDNN) to use the following CPU instructions in performance-critical operations:  AVX AVX2\n",
      "To enable them in other operations, rebuild TensorFlow with the appropriate compiler flags.\n",
      "2021-11-19 14:01:51,177 - WARNING - '--tag' not specified for saved_model. Using --tag serve\n",
      "2021-11-19 14:01:57,522 - INFO - Signatures found in model: [serving_default].\n",
      "2021-11-19 14:01:57,522 - WARNING - '--signature_def' not specified, using first signature: serving_default\n",
      "2021-11-19 14:01:57,523 - INFO - Output names: ['dense_1']\n",
      "2021-11-19 14:01:57.540934: I tensorflow/core/grappler/devices.cc:66] Number of eligible GPUs (core count >= 8, compute capability >= 0.0): 0\n",
      "2021-11-19 14:01:57.541601: I tensorflow/core/grappler/clusters/single_machine.cc:357] Starting new session\n",
      "2021-11-19 14:01:57.591988: I tensorflow/core/grappler/optimizers/meta_optimizer.cc:1137] Optimization results for grappler item: graph_to_optimize\n",
      "  function_optimizer: Graph size after: 1000 nodes (732), 1503 edges (1235), time = 29.633ms.\n",
      "  function_optimizer: function_optimizer did nothing. time = 0.667ms.\n",
      "\n",
      "WARNING:tensorflow:From C:\\Users\\dicoding\\anaconda3\\lib\\site-packages\\tf2onnx\\tf_loader.py:706: extract_sub_graph (from tensorflow.python.framework.graph_util_impl) is deprecated and will be removed in a future version.\n",
      "Instructions for updating:\n",
      "Use `tf.compat.v1.graph_util.extract_sub_graph`\n",
      "2021-11-19 14:01:58,762 - WARNING - From C:\\Users\\dicoding\\anaconda3\\lib\\site-packages\\tf2onnx\\tf_loader.py:706: extract_sub_graph (from tensorflow.python.framework.graph_util_impl) is deprecated and will be removed in a future version.\n",
      "Instructions for updating:\n",
      "Use `tf.compat.v1.graph_util.extract_sub_graph`\n",
      "2021-11-19 14:01:58.821622: I tensorflow/core/grappler/devices.cc:66] Number of eligible GPUs (core count >= 8, compute capability >= 0.0): 0\n",
      "2021-11-19 14:01:58.822074: I tensorflow/core/grappler/clusters/single_machine.cc:357] Starting new session\n",
      "2021-11-19 14:01:59.107749: I tensorflow/core/grappler/optimizers/meta_optimizer.cc:1137] Optimization results for grappler item: graph_to_optimize\n",
      "  constant_folding: Graph size after: 438 nodes (-528), 975 edges (-528), time = 180.852ms.\n",
      "  function_optimizer: function_optimizer did nothing. time = 2.043ms.\n",
      "  constant_folding: Graph size after: 438 nodes (0), 975 edges (0), time = 38.567ms.\n",
      "  function_optimizer: function_optimizer did nothing. time = 1.57ms.\n",
      "\n",
      "2021-11-19 14:01:59,384 - INFO - Using tensorflow=2.6.0, onnx=1.10.2, tf2onnx=1.10.0/32b9cf\n",
      "2021-11-19 14:01:59,384 - INFO - Using opset <onnx, 9>\n",
      "2021-11-19 14:02:00,921 - INFO - Computed 0 values for constant folding\n",
      "2021-11-19 14:02:02,085 - INFO - Optimizing ONNX model\n",
      "2021-11-19 14:02:04,423 - INFO - After optimization: BatchNormalization -45 (52->7), Cast -1 (1->0), Const -156 (286->130), Identity -6 (6->0), Reshape -17 (18->1), Transpose -223 (225->2)\n",
      "2021-11-19 14:02:04,538 - INFO - \n",
      "2021-11-19 14:02:04,538 - INFO - Successfully converted TensorFlow model saved_model to ONNX\n",
      "2021-11-19 14:02:04,538 - INFO - Model inputs: ['input_1']\n",
      "2021-11-19 14:02:04,539 - INFO - Model outputs: ['dense_1']\n",
      "2021-11-19 14:02:04,539 - INFO - ONNX model is saved at model.onnx\n"
     ]
    }
   ],
   "source": [
    "!python -m tf2onnx.convert --saved-model \"saved_model\" --output \"model.onnx\" --extra_opset ai.onnx.contrib:1"
   ]
  },
  {
   "cell_type": "code",
   "execution_count": null,
   "metadata": {},
   "outputs": [],
   "source": []
  }
 ],
 "metadata": {
  "interpreter": {
   "hash": "bec548f1eaa5f791e61300a57b6bdf324df859493cf8e5c89b07d9effee2d662"
  },
  "kernelspec": {
   "display_name": "Python 3.8.8 64-bit ('base': conda)",
   "language": "python",
   "name": "python3"
  },
  "language_info": {
   "codemirror_mode": {
    "name": "ipython",
    "version": 3
   },
   "file_extension": ".py",
   "mimetype": "text/x-python",
   "name": "python",
   "nbconvert_exporter": "python",
   "pygments_lexer": "ipython3",
   "version": "3.8.8"
  },
  "orig_nbformat": 4
 },
 "nbformat": 4,
 "nbformat_minor": 2
}
